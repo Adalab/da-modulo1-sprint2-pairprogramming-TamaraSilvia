{
 "cells": [
  {
   "cell_type": "markdown",
   "metadata": {},
   "source": [
    "____\n",
    "\n",
    "## BUCLES FOR\n",
    "___"
   ]
  },
  {
   "cell_type": "markdown",
   "metadata": {},
   "source": [
    "1. Imprimir los números del 1 al 5 utilizando un `bucle for`.\n",
    "\n",
    "Descripción: Utiliza un bucle for para imprimir los números del 1 al 50 (incluido) en orden ascendente."
   ]
  },
  {
   "cell_type": "code",
   "execution_count": null,
   "metadata": {},
   "outputs": [],
   "source": [
    "numeros = [3, 5, 4, 1, 2]\n",
    "orden = []\n",
    "\n",
    "for numero in numeros:"
   ]
  },
  {
   "cell_type": "markdown",
   "metadata": {},
   "source": [
    "2. Calcular la suma de los primeros 10 números naturales utilizando un `bucle for`.\n",
    "\n",
    "Descripción: Utiliza un bucle for para calcular la suma de los primeros 10 números naturales (1 + 2 + 3 + ... + 10)."
   ]
  },
  {
   "cell_type": "code",
   "execution_count": 1,
   "metadata": {},
   "outputs": [
    {
     "name": "stdout",
     "output_type": "stream",
     "text": [
      "55\n"
     ]
    }
   ],
   "source": [
    "suma = 0\n",
    "\n",
    "numeros = [1, 2, 3, 4, 5, 6, 7, 8, 9, 10]\n",
    "\n",
    "for numero in numeros:\n",
    "    suma += numero \n",
    "\n",
    "print(suma) "
   ]
  },
  {
   "cell_type": "markdown",
   "metadata": {},
   "source": [
    "3. Calcular el producto de los elementos de una lista. \n",
    "\n",
    "Descripción: Dada una lista de números, utiliza un bucle for para calcular el producto de todos los elementos."
   ]
  },
  {
   "cell_type": "code",
   "execution_count": 3,
   "metadata": {},
   "outputs": [
    {
     "name": "stdout",
     "output_type": "stream",
     "text": [
      "3628800\n"
     ]
    }
   ],
   "source": [
    "numeros = [1, 2, 3, 4, 5, 6, 7, 8, 9, 10]\n",
    "\n",
    "producto = 1\n",
    "\n",
    "for numero in numeros:\n",
    "    producto *= numero\n",
    "\n",
    "print(producto)"
   ]
  },
  {
   "cell_type": "markdown",
   "metadata": {},
   "source": [
    "4. Imprimir los caracteres de una cadena de texto.\n",
    "\n",
    "Descripción: Dada una cadena de texto, utiliza un bucle for para imprimir cada carácter en una línea separada."
   ]
  },
  {
   "cell_type": "code",
   "execution_count": 5,
   "metadata": {},
   "outputs": [
    {
     "name": "stdout",
     "output_type": "stream",
     "text": [
      "h\n",
      "o\n",
      "l\n",
      "a\n"
     ]
    }
   ],
   "source": [
    "texto = 'hola'\n",
    "\n",
    "for letra in texto:\n",
    "    print(letra)"
   ]
  },
  {
   "cell_type": "markdown",
   "metadata": {},
   "source": [
    "5. Imprimir los números pares del 1 al 100 utilizando un `bucle for`. \n",
    "\n",
    "Descripción: Utiliza un bucle for para imprimir los números pares del 1 al 100 en orden ascendente."
   ]
  },
  {
   "cell_type": "code",
   "execution_count": 6,
   "metadata": {},
   "outputs": [
    {
     "name": "stdout",
     "output_type": "stream",
     "text": [
      "2\n",
      "4\n",
      "6\n",
      "8\n",
      "10\n",
      "12\n",
      "14\n",
      "16\n",
      "18\n",
      "20\n",
      "22\n",
      "24\n",
      "26\n",
      "28\n",
      "30\n",
      "32\n",
      "34\n",
      "36\n",
      "38\n",
      "40\n",
      "42\n",
      "44\n",
      "46\n",
      "48\n",
      "50\n",
      "52\n",
      "54\n",
      "56\n",
      "58\n",
      "60\n",
      "62\n",
      "64\n",
      "66\n",
      "68\n",
      "70\n",
      "72\n",
      "74\n",
      "76\n",
      "78\n",
      "80\n",
      "82\n",
      "84\n",
      "86\n",
      "88\n",
      "90\n",
      "92\n",
      "94\n",
      "96\n",
      "98\n",
      "100\n"
     ]
    }
   ],
   "source": [
    "for i in range(1, 101):\n",
    "    if i %2 == 0:\n",
    "        print(i)"
   ]
  },
  {
   "cell_type": "markdown",
   "metadata": {},
   "source": [
    "6. Imprimir los números primos del 1 al 50 utilizando un bucle for. \n",
    "\n",
    "Descripción: Utiliza un bucle for para imprimir los números primos del 1 al 50 en orden ascendente.\n",
    "\n",
    "NOTA: Según la Wikipedia, un número primo es un número natural mayor que 1 que no tiene divisores positivos más que 1 y él mismo."
   ]
  },
  {
   "cell_type": "code",
   "execution_count": 2,
   "metadata": {},
   "outputs": [
    {
     "name": "stdout",
     "output_type": "stream",
     "text": [
      "1\n",
      "2\n",
      "3\n",
      "4\n",
      "5\n",
      "6\n",
      "7\n",
      "8\n",
      "9\n",
      "10\n",
      "11\n",
      "12\n",
      "13\n",
      "14\n",
      "15\n",
      "16\n",
      "17\n",
      "18\n",
      "19\n",
      "20\n",
      "21\n",
      "22\n",
      "23\n",
      "24\n",
      "25\n",
      "26\n",
      "27\n",
      "28\n",
      "29\n",
      "30\n",
      "31\n",
      "32\n",
      "33\n",
      "34\n",
      "35\n",
      "36\n",
      "37\n",
      "38\n",
      "39\n",
      "40\n",
      "41\n",
      "42\n",
      "43\n",
      "44\n",
      "45\n",
      "46\n",
      "47\n",
      "48\n",
      "49\n",
      "50\n"
     ]
    }
   ],
   "source": [
    "#SIN TERMINAR\n",
    "for i in range (1,51):\n",
    "    if i/i==1 and i/1==i and :\n",
    "       print(i) "
   ]
  },
  {
   "cell_type": "markdown",
   "metadata": {},
   "source": [
    "7. Calcular el factorial de un número utilizando un bucle for\n",
    "\n",
    "Descripción: Dado un número entero positivo, calcula su factorial utilizando un bucle for. "
   ]
  },
  {
   "cell_type": "code",
   "execution_count": 10,
   "metadata": {},
   "outputs": [
    {
     "name": "stdout",
     "output_type": "stream",
     "text": [
      "2\n"
     ]
    }
   ],
   "source": [
    "numero=int(input(\"Elige un número del 1 al 6\"))\n",
    "factorial=1\n",
    "for numero in range (1,(numero+1)):\n",
    "    factorial*=numero\n",
    "print(factorial)\n"
   ]
  },
  {
   "cell_type": "markdown",
   "metadata": {},
   "source": [
    "8. Juego de adivinar palabras utilizando un bucle for\n",
    "\n",
    "Descripción: Crea un juego en el que el jugador debe adivinar una palabra secreta. El jugador tiene un número limitado de intentos y se le proporcionan pistas después de cada intento. Utiliza un bucle for para controlar los intentos del jugador."
   ]
  },
  {
   "cell_type": "code",
   "execution_count": null,
   "metadata": {},
   "outputs": [],
   "source": [
    "#palabra_secreta=adalab\n",
    "palabra_secreta=[\"a\",\"d\",\"a\",\"l\",\"a\",\"b\"]\n",
    "asteriscos=[\"*\",\"*\",\"*\",\"*\",\"*\",\"*\"]\n",
    "vidas= [0, 1, 2, 3, 4]\n",
    "\n",
    "contador = 0\n",
    "\n",
    "while palabra_secreta != asteriscos and vidas >0:\n",
    "#cosas que necesitamos: \n",
    "# 1.Pistas, \n",
    "# 2.Bucle que cuando printeemos se vaya añadiendo una letra hasta que lo adivine, se le acaben las vidas o aparezca la palabra completa(ifs), \n",
    "# X 3.input repetir preguntar letra \n",
    "pregunta=input(\"Escribe la palabra secreta\").lower()\n",
    "\n",
    "if pregunta == "
   ]
  },
  {
   "cell_type": "code",
   "execution_count": null,
   "metadata": {},
   "outputs": [],
   "source": [
    "palabrasecreta = 'arbol'\n",
    "intentos = 4\n",
    "\n",
    "for i in palabrasecreta:\n",
    "    palabraelegida = input('Adivina la palabra secreta: ').upper()\n",
    "\n",
    "    if palabraelegida != i:\n",
    "        print('Los ves todos los días')"
   ]
  },
  {
   "cell_type": "code",
   "execution_count": 2,
   "metadata": {},
   "outputs": [
    {
     "name": "stdout",
     "output_type": "stream",
     "text": [
      "Los ves todos los días\n",
      "Están vivos\n",
      "Has acertado, la palabra era arboles\n"
     ]
    }
   ],
   "source": [
    "palabrasecreta = 'arboles'\n",
    "intentos = 4\n",
    "\n",
    "for intento in range(1, intentos +2):\n",
    "    palabraelegida = input('Adivina la palabra secreta: ').lower()\n",
    "\n",
    "    if palabraelegida != palabrasecreta and intento == 1:\n",
    "        print('Los ves todos los días')\n",
    "    \n",
    "    elif palabraelegida != palabrasecreta and intento == 2:\n",
    "        print('Están vivos')\n",
    "\n",
    "    elif palabraelegida != palabrasecreta and intento == 3:\n",
    "        print('No son animales')\n",
    "\n",
    "    elif palabraelegida != palabrasecreta and intento == 4:\n",
    "        print('Forman los bosques')\n",
    "    \n",
    "    elif palabraelegida != palabrasecreta and intento == 5:\n",
    "        print(f'Se acabaron los intentos, la palabra era {palabrasecreta}')\n",
    "\n",
    "        break\n",
    "\n",
    "    else:\n",
    "        print(f'Has acertado, la palabra era {palabrasecreta}')\n",
    "        break\n",
    "\n",
    "\n",
    "\n",
    "\n",
    "    "
   ]
  },
  {
   "cell_type": "markdown",
   "metadata": {},
   "source": [
    "____\n",
    "\n",
    "## FUNCIONES\n",
    "___"
   ]
  },
  {
   "cell_type": "markdown",
   "metadata": {},
   "source": [
    "1. Calcular el área de un círculo.\n",
    "Descripción: Crea una función llamada calcular_area_circulo que tome el radio como parámetro y devuelva el área del círculo.\n",
    "\n",
    "NOTA: Os dejamos aquí un link para recordar como se calculaba el área de un círculo."
   ]
  },
  {
   "cell_type": "code",
   "execution_count": 2,
   "metadata": {},
   "outputs": [
    {
     "name": "stdout",
     "output_type": "stream",
     "text": [
      "50.24\n"
     ]
    }
   ],
   "source": [
    "def calcular_area_circulo(radio):\n",
    "    pi=3.14\n",
    "    if radio>0:\n",
    "        area=pi*radio**2\n",
    "        return area\n",
    "    else:\n",
    "        pass\n",
    "print(calcular_area_circulo(4))"
   ]
  },
  {
   "cell_type": "markdown",
   "metadata": {},
   "source": [
    "2. Contar la cantidad de caracteres en una cadena.\n",
    "\n",
    "Descripción: Crea una función llamada contar_caracteres que tome una cadena como parámetro y devuelva la cantidad de caracteres que contiene."
   ]
  },
  {
   "cell_type": "code",
   "execution_count": 4,
   "metadata": {},
   "outputs": [
    {
     "name": "stdout",
     "output_type": "stream",
     "text": [
      "13\n"
     ]
    }
   ],
   "source": [
    "cadena=\"Hola caracola\"\n",
    "def contar_caracteres (cadena):\n",
    "    longitud=len(cadena)\n",
    "    return longitud\n",
    "print(contar_caracteres(cadena))"
   ]
  },
  {
   "cell_type": "markdown",
   "metadata": {},
   "source": [
    "3. Determinar si una cadena es un palíndromo.\n",
    "\n",
    "Descripción: Crea una función llamada es_palindromo que tome una cadena como parámetro y devuelva True si es un palíndromo, o False si no lo es."
   ]
  },
  {
   "cell_type": "code",
   "execution_count": 14,
   "metadata": {},
   "outputs": [
    {
     "name": "stdout",
     "output_type": "stream",
     "text": [
      "True\n"
     ]
    }
   ],
   "source": [
    "cadena=\"anilina\"\n",
    "def es_palindromo (cadena):\n",
    "    return cadena==cadena[::-1]\n",
    "print(es_palindromo(cadena))"
   ]
  },
  {
   "cell_type": "markdown",
   "metadata": {},
   "source": [
    "4. Calcular el promedio de una lista de números.\n",
    "\n",
    "Descripción: Crea una función llamada calcular_promedio que tome una lista de números como parámetro y devuelva el promedio de todos sus elementos."
   ]
  },
  {
   "cell_type": "code",
   "execution_count": 21,
   "metadata": {},
   "outputs": [
    {
     "name": "stdout",
     "output_type": "stream",
     "text": [
      "3.0\n"
     ]
    }
   ],
   "source": [
    "numeros=[1,2,3,4,5]\n",
    "def calcular_promedio(numeros):\n",
    "    suma=0\n",
    "    for i in numeros:\n",
    "        suma+=i\n",
    "    promedio=suma/len(numeros)\n",
    "    return promedio\n",
    "print(calcular_promedio(numeros))"
   ]
  },
  {
   "cell_type": "markdown",
   "metadata": {},
   "source": [
    "5. Calcular el interés compuesto.\n",
    "\n",
    "Descripción: Crea una función llamada calcular_interes_compuesto que tome el capital inicial, la tasa de interés y el número de períodos como parámetros y devuelva el beneficio final después del interés compuesto."
   ]
  },
  {
   "attachments": {
    "image.png": {
     "image/png": "[encoded data removed]"
    }
   },
   "cell_type": "markdown",
   "metadata": {},
   "source": [
    "\n",
    "![image.png](attachment:image.png)"
   ]
  },
  {
   "cell_type": "code",
   "execution_count": 23,
   "metadata": {},
   "outputs": [
    {
     "name": "stdout",
     "output_type": "stream",
     "text": [
      "2250.0\n"
     ]
    }
   ],
   "source": [
    "capital_inicial=1000\n",
    "tasa_interes=0.5\n",
    "periodo_ahorro=2\n",
    "def calcular_interes_compuesto (capital_inicial,tasa_interes,periodo_ahorro):\n",
    "    capital_final=capital_inicial*(1+tasa_interes)**periodo_ahorro\n",
    "    return capital_final\n",
    "print(calcular_interes_compuesto(capital_inicial,tasa_interes,periodo_ahorro))"
   ]
  },
  {
   "cell_type": "markdown",
   "metadata": {},
   "source": [
    "6.Validar si una palabra es un anagrama de otra.\n",
    "\n",
    "Descripción: Crea una función llamada es_anagrama que tome dos palabras como parámetros y devuelva True si una es un anagrama de la otra, o False si no lo es."
   ]
  },
  {
   "cell_type": "code",
   "execution_count": 14,
   "metadata": {},
   "outputs": [
    {
     "name": "stdout",
     "output_type": "stream",
     "text": [
      "True\n"
     ]
    }
   ],
   "source": [
    "palabra1=\"amor\"\n",
    "palabra2=\"roma\"\n",
    "def es_anagrama (palabra1,palabra2):\n",
    "    return palabra1==palabra2[::-1]\n",
    "print(es_anagrama(palabra1,palabra2))"
   ]
  },
  {
   "cell_type": "markdown",
   "metadata": {},
   "source": [
    "7. Validar si una cadena de texto es un isograma.\n",
    "\n",
    "Descripción: Crea una función llamada es_isograma que tome una cadena de texto como parámetro y devuelva True si es un isograma. En caso contrario, devuelve False."
   ]
  },
  {
   "cell_type": "code",
   "execution_count": 20,
   "metadata": {},
   "outputs": [
    {
     "name": "stdout",
     "output_type": "stream",
     "text": [
      "True\n"
     ]
    }
   ],
   "source": [
    "cadena ='hola'\n",
    "\n",
    "def es_isograma(cadena):\n",
    "    set_cadena = set(cadena)\n",
    "    return len(cadena) == len(set_cadena)\n",
    "\n",
    "print(es_isograma(cadena))"
   ]
  },
  {
   "cell_type": "markdown",
   "metadata": {},
   "source": [
    "8. Concatenar múltiples cadenas de texto.\n",
    "\n",
    "Descripción: Crea una función llamada concatenar_cadenas que tome una cantidad variable de cadenas de texto como argumentos y devuelva una única cadena que contenga la concatenación de todas las cadenas ingresadas"
   ]
  },
  {
   "cell_type": "code",
   "execution_count": 23,
   "metadata": {},
   "outputs": [
    {
     "name": "stdout",
     "output_type": "stream",
     "text": [
      "hola caracola adios caracolo\n"
     ]
    }
   ],
   "source": [
    "cadena = 'hola caracola'\n",
    "cadena1 = 'adios caracolo'\n",
    "\n",
    "def concatenar_palabras (*args):\n",
    "    resultado = ''\n",
    "    espacio = ' '\n",
    "    for palabra in args:\n",
    "        resultado = resultado + espacio + palabra\n",
    "\n",
    "    return resultado.strip()\n",
    "\n",
    "print (concatenar_palabras (cadena, cadena1))"
   ]
  },
  {
   "cell_type": "markdown",
   "metadata": {},
   "source": [
    "9. Crear un diccionario con información de una persona.\n",
    "\n",
    "Descripción: Crea una función llamada crear_persona que tome como argumentos clave-valor los datos de una persona, como nombre, edad, ciudad, etc., y devuelva un diccionario con toda la información ingresada."
   ]
  },
  {
   "cell_type": "code",
   "execution_count": 30,
   "metadata": {},
   "outputs": [
    {
     "name": "stdout",
     "output_type": "stream",
     "text": [
      "{'Nombre': 'Pepe', 'Edad': '35'}\n"
     ]
    }
   ],
   "source": [
    "diccionario1 = {'Nombre': 'Pepe'}\n",
    "diccionario2 = {'Edad': '35'}\n",
    "\n",
    "def crear_persona(**kwars):\n",
    "    diccionario3 = {}\n",
    "    diccionario3.update(kwars)\n",
    "    return diccionario3\n",
    "\n",
    "print(crear_persona(**diccionario1, **diccionario2))"
   ]
  },
  {
   "cell_type": "markdown",
   "metadata": {},
   "source": [
    "\n",
    "10. Encontrar el número que falta en una lista ordenada de números consecutivos.\n",
    "\n",
    "Descripción: Crea una función llamada encontrar_numero_faltante que tome una lista de números consecutivos (del 1 al N, sin repetir) con un número faltante y devuelva ese número faltante."
   ]
  },
  {
   "cell_type": "code",
   "execution_count": 39,
   "metadata": {},
   "outputs": [
    {
     "name": "stdout",
     "output_type": "stream",
     "text": [
      "3\n"
     ]
    }
   ],
   "source": [
    "lista_numeros = [1, 2, 4, 5]\n",
    "\n",
    "\n",
    "def encontrar_numero_faltante(lista_numeros):\n",
    "    contador = 1\n",
    "\n",
    "    for i in lista_numeros:\n",
    "        if contador == i:\n",
    "            contador += 1\n",
    "        else:\n",
    "            break\n",
    "\n",
    "    return contador\n",
    "print(encontrar_numero_faltante(lista_numeros))"
   ]
  },
  {
   "cell_type": "markdown",
   "metadata": {},
   "source": [
    "11. Encontrar el elemento duplicado en una lista de números.\n",
    "\n",
    "Descripción: Crea una función llamada encontrar_duplicado que tome una lista de números enteros y devuelva el elemento que está duplicado en la lista."
   ]
  },
  {
   "cell_type": "code",
   "execution_count": 41,
   "metadata": {},
   "outputs": [
    {
     "name": "stdout",
     "output_type": "stream",
     "text": [
      "4\n"
     ]
    }
   ],
   "source": [
    "lista_numeros2 = [1, 2, 3, 4, 4, 5]\n",
    "\n",
    "\n",
    "def encontrar_numero_faltante(lista_numeros2):\n",
    "    contador = 1\n",
    "\n",
    "    for i in lista_numeros2:\n",
    "        if contador == i:\n",
    "            contador += 1\n",
    "        else:\n",
    "            break\n",
    "\n",
    "    return i\n",
    "print(encontrar_numero_faltante(lista_numeros2))"
   ]
  }
 ],
 "metadata": {
  "kernelspec": {
   "display_name": "base",
   "language": "python",
   "name": "python3"
  },
  "language_info": {
   "codemirror_mode": {
    "name": "ipython",
    "version": 3
   },
   "file_extension": ".py",
   "mimetype": "text/x-python",
   "name": "python",
   "nbconvert_exporter": "python",
   "pygments_lexer": "ipython3",
   "version": "3.10.9"
  }
 },
 "nbformat": 4,
 "nbformat_minor": 2
}
